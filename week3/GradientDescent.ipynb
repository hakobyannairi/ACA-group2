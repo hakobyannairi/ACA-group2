{
 "cells": [
  {
   "cell_type": "markdown",
   "metadata": {},
   "source": [
    "# Implement Linear Regression (Gradient Descent) with 1 variable"
   ]
  },
  {
   "cell_type": "code",
   "execution_count": null,
   "metadata": {},
   "outputs": [],
   "source": [
    "class LinearRegression:\n",
    "    def __init__(self, lr=0.1,):\n",
    "        self.lr = lr\n",
    "        self.w0 = \n",
    "        self.w1 = \n",
    "    \n",
    "    def cost_function(self):\n",
    "        pass\n",
    "    \n",
    "    def update_weights(self):\n",
    "        self.w0 =\n",
    "        self.w1 = \n",
    "    \n",
    "    def fit(self, x_test, y_test):\n",
    "        for _ in ():\n",
    "            self.update_weights()\n",
    "        \n",
    "    def predict(self, x_test):\n",
    "        return y_pred"
   ]
  },
  {
   "cell_type": "markdown",
   "metadata": {},
   "source": [
    "# Implement Ridge Regression (Gradient Descent) for unlimited number of variables"
   ]
  },
  {
   "cell_type": "code",
   "execution_count": null,
   "metadata": {},
   "outputs": [],
   "source": [
    "class LinearRegression:\n",
    "    def __init__(self, lr=0.1, lmb=1):\n",
    "        self.lr = lr\n",
    "        self.lmb = lmb \n",
    "    \n",
    "    def cost_function(self):\n",
    "        pass\n",
    "    \n",
    "    def update_weights(self):\n",
    "        pass\n",
    "    \n",
    "    def fit(self, x_test, y_test):\n",
    "        for _ in ():\n",
    "            self.update_weights()\n",
    "        \n",
    "    def predict(self, x_test):\n",
    "        return y_pred"
   ]
  }
 ],
 "metadata": {
  "kernelspec": {
   "display_name": "Python 3",
   "language": "python",
   "name": "python3"
  },
  "language_info": {
   "codemirror_mode": {
    "name": "ipython",
    "version": 3
   },
   "file_extension": ".py",
   "mimetype": "text/x-python",
   "name": "python",
   "nbconvert_exporter": "python",
   "pygments_lexer": "ipython3",
   "version": "3.8.3"
  }
 },
 "nbformat": 4,
 "nbformat_minor": 4
}
